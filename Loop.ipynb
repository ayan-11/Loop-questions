{
 "cells": [
  {
   "cell_type": "code",
   "execution_count": null,
   "id": "30f1c23f-fd9c-49d8-879d-26439a25c638",
   "metadata": {},
   "outputs": [],
   "source": [
    "1. Write a Python program to print the numbers from 1 to 10 using a `for` loop."
   ]
  },
  {
   "cell_type": "code",
   "execution_count": 1,
   "id": "9a4b3be3-f596-442a-8430-7fd2f54c073d",
   "metadata": {},
   "outputs": [
    {
     "name": "stdout",
     "output_type": "stream",
     "text": [
      "1\n",
      "2\n",
      "3\n",
      "4\n",
      "5\n",
      "6\n",
      "7\n",
      "8\n",
      "9\n",
      "10\n"
     ]
    }
   ],
   "source": [
    "for i in range(1,11):\n",
    "    print(i)"
   ]
  },
  {
   "cell_type": "code",
   "execution_count": null,
   "id": "a5731410-03e5-4df4-aa8e-66ddaaa48a0f",
   "metadata": {},
   "outputs": [],
   "source": [
    "2. Create a program that calculates the sum of all numbers in a list using a `for` loop."
   ]
  },
  {
   "cell_type": "code",
   "execution_count": 2,
   "id": "52b97e2b-e74c-43c7-a096-a8307fb6996c",
   "metadata": {},
   "outputs": [
    {
     "name": "stdout",
     "output_type": "stream",
     "text": [
      "55\n"
     ]
    }
   ],
   "source": [
    "l=[1,2,3,4,5,6,7,8,9,10]\n",
    "s=0\n",
    "for i in l:\n",
    "    s+=i\n",
    "print(s)"
   ]
  },
  {
   "cell_type": "code",
   "execution_count": null,
   "id": "e1d75a0e-ec89-4f33-8d95-6cce415762af",
   "metadata": {},
   "outputs": [],
   "source": [
    "3. Write a program to print the characters of a string in reverse order using a `for` loop."
   ]
  },
  {
   "cell_type": "code",
   "execution_count": 5,
   "id": "06255c71-8b29-4148-a91b-945fad4e0a49",
   "metadata": {},
   "outputs": [
    {
     "name": "stdout",
     "output_type": "stream",
     "text": [
      "10\n",
      "9\n",
      "8\n",
      "7\n",
      "6\n",
      "5\n",
      "4\n",
      "3\n",
      "2\n",
      "1\n"
     ]
    }
   ],
   "source": [
    "l=[1,2,3,4,5,6,7,8,9,10]\n",
    "for i in range(-1,-len(l)-1,-1):\n",
    "    print(l[i])"
   ]
  },
  {
   "cell_type": "code",
   "execution_count": null,
   "id": "fa102665-d3a1-459e-a62a-7cca2f06b559",
   "metadata": {},
   "outputs": [],
   "source": [
    "4. Develop a program that finds the factorial of a given number using a `for` loop."
   ]
  },
  {
   "cell_type": "code",
   "execution_count": 10,
   "id": "46bad642-2f0f-4d6c-96a4-fd4da69c0780",
   "metadata": {},
   "outputs": [
    {
     "name": "stdout",
     "output_type": "stream",
     "text": [
      "1\n",
      "2\n",
      "5\n",
      "10\n"
     ]
    }
   ],
   "source": [
    "fac = 0\n",
    "num = 10\n",
    "for i in range(1, num + 1):\n",
    "    if num % i == 0:\n",
    "        print(i)\n",
    "        fac += 1"
   ]
  },
  {
   "cell_type": "code",
   "execution_count": null,
   "id": "925088b2-b70f-4f86-b11b-ca3edc74f2c6",
   "metadata": {},
   "outputs": [],
   "source": [
    "5. Create a program to print the multiplication table of a given number using a `for` loop."
   ]
  },
  {
   "cell_type": "code",
   "execution_count": 11,
   "id": "2b9d4b53-5a49-470c-9093-6f68962ec56f",
   "metadata": {},
   "outputs": [
    {
     "name": "stdout",
     "output_type": "stream",
     "text": [
      "5  X  1  =  5\n",
      "5  X  2  =  10\n",
      "5  X  3  =  15\n",
      "5  X  4  =  20\n",
      "5  X  5  =  25\n",
      "5  X  6  =  30\n",
      "5  X  7  =  35\n",
      "5  X  8  =  40\n",
      "5  X  9  =  45\n",
      "5  X  10  =  50\n"
     ]
    }
   ],
   "source": [
    "n=5\n",
    "for i in range(1,11):\n",
    "    print(n,' X ',i,' = ',n*i)"
   ]
  },
  {
   "cell_type": "code",
   "execution_count": null,
   "id": "0752e206-204f-4bec-b6b0-568fe466d213",
   "metadata": {},
   "outputs": [],
   "source": [
    "6. Write a program that counts the number of even and odd numbers in a list using a `for` loop."
   ]
  },
  {
   "cell_type": "code",
   "execution_count": 13,
   "id": "a82f0f9c-3427-4023-9139-26a073d3297f",
   "metadata": {},
   "outputs": [
    {
     "name": "stdout",
     "output_type": "stream",
     "text": [
      "5 , 5\n"
     ]
    }
   ],
   "source": [
    "list1=[1,2,3,4,5,6,7,8,9,10]\n",
    "e_count,o_count=0,0\n",
    "for i in list1:\n",
    "    if i % 2 == 0:\n",
    "        e_count+=1\n",
    "    else:\n",
    "        o_count+=1\n",
    "print(e_count,',',o_count)"
   ]
  },
  {
   "cell_type": "code",
   "execution_count": null,
   "id": "028dde35-675a-46a3-88ea-abca45794ff0",
   "metadata": {},
   "outputs": [],
   "source": [
    "7. Develop a program that prints the squares of numbers from 1 to 5 using a `for` loop."
   ]
  },
  {
   "cell_type": "code",
   "execution_count": 14,
   "id": "3c3e1f58-22c7-4cb5-a37e-19cead3eaed6",
   "metadata": {},
   "outputs": [
    {
     "name": "stdout",
     "output_type": "stream",
     "text": [
      "[1, 4, 9, 16, 25]\n"
     ]
    }
   ],
   "source": [
    "list1=[]\n",
    "for i in range(1,6):\n",
    "    list1.append(i**2)\n",
    "print(list1)"
   ]
  },
  {
   "cell_type": "code",
   "execution_count": null,
   "id": "6ce5935c-f250-4e7e-b33a-cd758ba5da7b",
   "metadata": {},
   "outputs": [],
   "source": [
    "8. Create a program to find the length of a string without using the `len()` function."
   ]
  },
  {
   "cell_type": "code",
   "execution_count": 15,
   "id": "1cefeeba-c548-45f2-826d-e34a7161a54b",
   "metadata": {},
   "outputs": [
    {
     "name": "stdout",
     "output_type": "stream",
     "text": [
      "10\n"
     ]
    }
   ],
   "source": [
    "list1=[1,2,3,4,1,2,3,4,5,6]\n",
    "l=0\n",
    "for i in list1:\n",
    "    l+=1\n",
    "print(l)"
   ]
  },
  {
   "cell_type": "code",
   "execution_count": null,
   "id": "f7d39fd6-a5e3-4181-a180-b2541dedbdd5",
   "metadata": {},
   "outputs": [],
   "source": [
    "9. Write a program that calculates the average of a list of numbers using a `for` loop."
   ]
  },
  {
   "cell_type": "code",
   "execution_count": 16,
   "id": "c4964ad1-1da7-4ae2-8632-83e24c4cf787",
   "metadata": {},
   "outputs": [
    {
     "name": "stdout",
     "output_type": "stream",
     "text": [
      "3\n"
     ]
    }
   ],
   "source": [
    "list1=[1,2,3,4,1,2,3,4,5,6]\n",
    "avg=sum(list1)//len(list1)\n",
    "print(avg)"
   ]
  },
  {
   "cell_type": "code",
   "execution_count": null,
   "id": "cc933191-3592-4163-b5e8-5aec6891123c",
   "metadata": {},
   "outputs": [],
   "source": [
    "10. Develop a program that prints the first `n` Fibonacci numbers using a `for` loop."
   ]
  },
  {
   "cell_type": "code",
   "execution_count": 17,
   "id": "05ceb95b-50b1-4273-92e9-d59c5432822a",
   "metadata": {},
   "outputs": [
    {
     "name": "stdout",
     "output_type": "stream",
     "text": [
      "[0, 1, 1, 2, 3, 5, 8, 13, 21, 34]\n"
     ]
    }
   ],
   "source": [
    "n=10\n",
    "res=[]\n",
    "a,b=0,1\n",
    "for i in range(n):\n",
    "    res.append(a)\n",
    "    a,b=b,a+b\n",
    "print(res)"
   ]
  },
  {
   "cell_type": "code",
   "execution_count": null,
   "id": "047139ed-c6bb-4bae-9565-3ba0b8c19356",
   "metadata": {},
   "outputs": [],
   "source": []
  }
 ],
 "metadata": {
  "kernelspec": {
   "display_name": "Python 3 (ipykernel)",
   "language": "python",
   "name": "python3"
  },
  "language_info": {
   "codemirror_mode": {
    "name": "ipython",
    "version": 3
   },
   "file_extension": ".py",
   "mimetype": "text/x-python",
   "name": "python",
   "nbconvert_exporter": "python",
   "pygments_lexer": "ipython3",
   "version": "3.10.8"
  }
 },
 "nbformat": 4,
 "nbformat_minor": 5
}
